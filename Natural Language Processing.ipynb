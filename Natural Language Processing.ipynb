{
 "cells": [
  {
   "cell_type": "markdown",
   "metadata": {},
   "source": [
    "# Natural Language Processing\n"
   ]
  },
  {
   "cell_type": "code",
   "execution_count": 11,
   "metadata": {},
   "outputs": [],
   "source": [
    "import nltk\n",
    "import pandas as pd\n",
    "import numpy as np"
   ]
  },
  {
   "cell_type": "code",
   "execution_count": 2,
   "metadata": {},
   "outputs": [],
   "source": [
    "comments = pd.read_csv('data_in.csv')"
   ]
  },
  {
   "cell_type": "code",
   "execution_count": 5,
   "metadata": {},
   "outputs": [
    {
     "data": {
      "text/html": [
       "<div>\n",
       "<style scoped>\n",
       "    .dataframe tbody tr th:only-of-type {\n",
       "        vertical-align: middle;\n",
       "    }\n",
       "\n",
       "    .dataframe tbody tr th {\n",
       "        vertical-align: top;\n",
       "    }\n",
       "\n",
       "    .dataframe thead th {\n",
       "        text-align: right;\n",
       "    }\n",
       "</style>\n",
       "<table border=\"1\" class=\"dataframe\">\n",
       "  <thead>\n",
       "    <tr style=\"text-align: right;\">\n",
       "      <th></th>\n",
       "      <th>Comment</th>\n",
       "    </tr>\n",
       "  </thead>\n",
       "  <tbody>\n",
       "    <tr>\n",
       "      <th>0</th>\n",
       "      <td>\"Hello there, how are you? Weather is awesome....</td>\n",
       "    </tr>\n",
       "    <tr>\n",
       "      <th>1</th>\n",
       "      <td>\"Hello Mr. Raja, how are you? Weather is aweso...</td>\n",
       "    </tr>\n",
       "    <tr>\n",
       "      <th>2</th>\n",
       "      <td>\"Hello Mr. Raja, how are you. Weather is bad. ...</td>\n",
       "    </tr>\n",
       "    <tr>\n",
       "      <th>3</th>\n",
       "      <td>\"NLP is great technique. It is nice to learn t...</td>\n",
       "    </tr>\n",
       "    <tr>\n",
       "      <th>4</th>\n",
       "      <td>\"AI is making difference in this world now.  I...</td>\n",
       "    </tr>\n",
       "  </tbody>\n",
       "</table>\n",
       "</div>"
      ],
      "text/plain": [
       "                                             Comment\n",
       "0  \"Hello there, how are you? Weather is awesome....\n",
       "1  \"Hello Mr. Raja, how are you? Weather is aweso...\n",
       "2  \"Hello Mr. Raja, how are you. Weather is bad. ...\n",
       "3  \"NLP is great technique. It is nice to learn t...\n",
       "4  \"AI is making difference in this world now.  I..."
      ]
     },
     "execution_count": 5,
     "metadata": {},
     "output_type": "execute_result"
    }
   ],
   "source": [
    "comments"
   ]
  },
  {
   "cell_type": "code",
   "execution_count": 6,
   "metadata": {},
   "outputs": [],
   "source": [
    "sentences = [nltk.sent_tokenize(sents) for sents in comments.iloc[:,0] ]"
   ]
  },
  {
   "cell_type": "code",
   "execution_count": 7,
   "metadata": {},
   "outputs": [
    {
     "data": {
      "text/plain": [
       "[['\"Hello there, how are you?',\n",
       "  'Weather is awesome.',\n",
       "  'Its raining here now.\"'],\n",
       " ['\"Hello Mr. Raja, how are you?',\n",
       "  'Weather is awesome.',\n",
       "  'Its raining here now.\"'],\n",
       " ['\"Hello Mr. Raja, how are you.',\n",
       "  'Weather is bad.',\n",
       "  'Its heavily raining here now.\"'],\n",
       " ['\"NLP is great technique.', 'It is nice to learn this technique.\"'],\n",
       " ['\"AI is making difference in this world now.',\n",
       "  'It would be helpful for betterment of human life.',\n",
       "  'We need to make advantage of that.\"']]"
      ]
     },
     "execution_count": 7,
     "metadata": {},
     "output_type": "execute_result"
    }
   ],
   "source": [
    "sentences"
   ]
  },
  {
   "cell_type": "code",
   "execution_count": 8,
   "metadata": {},
   "outputs": [],
   "source": [
    "words = [nltk.word_tokenize(comm) for comm in comments.iloc[:,0]]"
   ]
  },
  {
   "cell_type": "code",
   "execution_count": 9,
   "metadata": {},
   "outputs": [
    {
     "data": {
      "text/plain": [
       "[['``',\n",
       "  'Hello',\n",
       "  'there',\n",
       "  ',',\n",
       "  'how',\n",
       "  'are',\n",
       "  'you',\n",
       "  '?',\n",
       "  'Weather',\n",
       "  'is',\n",
       "  'awesome',\n",
       "  '.',\n",
       "  'Its',\n",
       "  'raining',\n",
       "  'here',\n",
       "  'now',\n",
       "  '.',\n",
       "  \"''\"],\n",
       " ['``',\n",
       "  'Hello',\n",
       "  'Mr.',\n",
       "  'Raja',\n",
       "  ',',\n",
       "  'how',\n",
       "  'are',\n",
       "  'you',\n",
       "  '?',\n",
       "  'Weather',\n",
       "  'is',\n",
       "  'awesome',\n",
       "  '.',\n",
       "  'Its',\n",
       "  'raining',\n",
       "  'here',\n",
       "  'now',\n",
       "  '.',\n",
       "  \"''\"],\n",
       " ['``',\n",
       "  'Hello',\n",
       "  'Mr.',\n",
       "  'Raja',\n",
       "  ',',\n",
       "  'how',\n",
       "  'are',\n",
       "  'you',\n",
       "  '.',\n",
       "  'Weather',\n",
       "  'is',\n",
       "  'bad',\n",
       "  '.',\n",
       "  'Its',\n",
       "  'heavily',\n",
       "  'raining',\n",
       "  'here',\n",
       "  'now',\n",
       "  '.',\n",
       "  \"''\"],\n",
       " ['``',\n",
       "  'NLP',\n",
       "  'is',\n",
       "  'great',\n",
       "  'technique',\n",
       "  '.',\n",
       "  'It',\n",
       "  'is',\n",
       "  'nice',\n",
       "  'to',\n",
       "  'learn',\n",
       "  'this',\n",
       "  'technique',\n",
       "  '.',\n",
       "  \"''\"],\n",
       " ['``',\n",
       "  'AI',\n",
       "  'is',\n",
       "  'making',\n",
       "  'difference',\n",
       "  'in',\n",
       "  'this',\n",
       "  'world',\n",
       "  'now',\n",
       "  '.',\n",
       "  'It',\n",
       "  'would',\n",
       "  'be',\n",
       "  'helpful',\n",
       "  'for',\n",
       "  'betterment',\n",
       "  'of',\n",
       "  'human',\n",
       "  'life',\n",
       "  '.',\n",
       "  'We',\n",
       "  'need',\n",
       "  'to',\n",
       "  'make',\n",
       "  'advantage',\n",
       "  'of',\n",
       "  'that',\n",
       "  '.',\n",
       "  \"''\"]]"
      ]
     },
     "execution_count": 9,
     "metadata": {},
     "output_type": "execute_result"
    }
   ],
   "source": [
    "words"
   ]
  },
  {
   "cell_type": "code",
   "execution_count": 12,
   "metadata": {},
   "outputs": [],
   "source": [
    "word_sents = list(zip(np.asarray(words),np.asarray(sentences)))"
   ]
  },
  {
   "cell_type": "code",
   "execution_count": 14,
   "metadata": {},
   "outputs": [],
   "source": [
    "df = pd.DataFrame(data=word_sents)"
   ]
  },
  {
   "cell_type": "code",
   "execution_count": 16,
   "metadata": {},
   "outputs": [],
   "source": [
    "df.to_csv('data_out.csv')"
   ]
  },
  {
   "cell_type": "code",
   "execution_count": 21,
   "metadata": {},
   "outputs": [],
   "source": [
    "data = pd.read_table('data.txt',header=None)"
   ]
  },
  {
   "cell_type": "code",
   "execution_count": 45,
   "metadata": {},
   "outputs": [],
   "source": [
    "sentences = np.asarray(data).flatten().tolist()"
   ]
  },
  {
   "cell_type": "code",
   "execution_count": 46,
   "metadata": {},
   "outputs": [
    {
     "data": {
      "text/plain": [
       "['Hello there, how are you? Weather is awesome. Its raining here now.',\n",
       " 'Hello Mr. Raja, how are you? Weather is awesome. Its raining here now.',\n",
       " 'Hello Mr. Raja, how are you. Weather is bad. Its heavily raining here now.',\n",
       " 'NLP is great technique. It is nice to learn this technique.',\n",
       " 'AI is making difference in this world now.  It would be helpful for betterment of human life. We need to make advantage of that.']"
      ]
     },
     "execution_count": 46,
     "metadata": {},
     "output_type": "execute_result"
    }
   ],
   "source": [
    "sentences"
   ]
  },
  {
   "cell_type": "code",
   "execution_count": 58,
   "metadata": {},
   "outputs": [],
   "source": [
    "pos_tags = [nltk.pos_tag(nltk.word_tokenize(sentence)) for sentence in sentences]"
   ]
  },
  {
   "cell_type": "code",
   "execution_count": 59,
   "metadata": {},
   "outputs": [
    {
     "data": {
      "text/plain": [
       "[[('Hello', 'NNP'),\n",
       "  ('there', 'RB'),\n",
       "  (',', ','),\n",
       "  ('how', 'WRB'),\n",
       "  ('are', 'VBP'),\n",
       "  ('you', 'PRP'),\n",
       "  ('?', '.'),\n",
       "  ('Weather', \"''\"),\n",
       "  ('is', 'VBZ'),\n",
       "  ('awesome', 'JJ'),\n",
       "  ('.', '.'),\n",
       "  ('Its', 'PRP$'),\n",
       "  ('raining', 'VBG'),\n",
       "  ('here', 'RB'),\n",
       "  ('now', 'RB'),\n",
       "  ('.', '.')],\n",
       " [('Hello', 'NNP'),\n",
       "  ('Mr.', 'NNP'),\n",
       "  ('Raja', 'NNP'),\n",
       "  (',', ','),\n",
       "  ('how', 'WRB'),\n",
       "  ('are', 'VBP'),\n",
       "  ('you', 'PRP'),\n",
       "  ('?', '.'),\n",
       "  ('Weather', \"''\"),\n",
       "  ('is', 'VBZ'),\n",
       "  ('awesome', 'JJ'),\n",
       "  ('.', '.'),\n",
       "  ('Its', 'PRP$'),\n",
       "  ('raining', 'VBG'),\n",
       "  ('here', 'RB'),\n",
       "  ('now', 'RB'),\n",
       "  ('.', '.')],\n",
       " [('Hello', 'NNP'),\n",
       "  ('Mr.', 'NNP'),\n",
       "  ('Raja', 'NNP'),\n",
       "  (',', ','),\n",
       "  ('how', 'WRB'),\n",
       "  ('are', 'VBP'),\n",
       "  ('you', 'PRP'),\n",
       "  ('.', '.'),\n",
       "  ('Weather', 'CC'),\n",
       "  ('is', 'VBZ'),\n",
       "  ('bad', 'JJ'),\n",
       "  ('.', '.'),\n",
       "  ('Its', 'PRP$'),\n",
       "  ('heavily', 'RB'),\n",
       "  ('raining', 'VBG'),\n",
       "  ('here', 'RB'),\n",
       "  ('now', 'RB'),\n",
       "  ('.', '.')],\n",
       " [('NLP', 'NNP'),\n",
       "  ('is', 'VBZ'),\n",
       "  ('great', 'JJ'),\n",
       "  ('technique', 'NN'),\n",
       "  ('.', '.'),\n",
       "  ('It', 'PRP'),\n",
       "  ('is', 'VBZ'),\n",
       "  ('nice', 'JJ'),\n",
       "  ('to', 'TO'),\n",
       "  ('learn', 'VB'),\n",
       "  ('this', 'DT'),\n",
       "  ('technique', 'NN'),\n",
       "  ('.', '.')],\n",
       " [('AI', 'NNP'),\n",
       "  ('is', 'VBZ'),\n",
       "  ('making', 'VBG'),\n",
       "  ('difference', 'NN'),\n",
       "  ('in', 'IN'),\n",
       "  ('this', 'DT'),\n",
       "  ('world', 'NN'),\n",
       "  ('now', 'RB'),\n",
       "  ('.', '.'),\n",
       "  ('It', 'PRP'),\n",
       "  ('would', 'MD'),\n",
       "  ('be', 'VB'),\n",
       "  ('helpful', 'JJ'),\n",
       "  ('for', 'IN'),\n",
       "  ('betterment', 'NN'),\n",
       "  ('of', 'IN'),\n",
       "  ('human', 'JJ'),\n",
       "  ('life', 'NN'),\n",
       "  ('.', '.'),\n",
       "  ('We', 'PRP'),\n",
       "  ('need', 'VBP'),\n",
       "  ('to', 'TO'),\n",
       "  ('make', 'VB'),\n",
       "  ('advantage', 'NN'),\n",
       "  ('of', 'IN'),\n",
       "  ('that', 'DT'),\n",
       "  ('.', '.')]]"
      ]
     },
     "execution_count": 59,
     "metadata": {},
     "output_type": "execute_result"
    }
   ],
   "source": [
    "pos_tags"
   ]
  },
  {
   "cell_type": "code",
   "execution_count": 61,
   "metadata": {},
   "outputs": [],
   "source": [
    "%matplotlib inline\n",
    "#Drawing Tree\n",
    "pattern = \"NP: {<DT>?<JJ>*<NN>}\"\n",
    "NPChunker = nltk.RegexpParser(pattern)\n",
    "for pos_tag in pos_tags : \n",
    "    result = NPChunker.parse(pos_tag)\n",
    "    result.draw()"
   ]
  },
  {
   "cell_type": "markdown",
   "metadata": {},
   "source": [
    "## Ex 4"
   ]
  },
  {
   "cell_type": "code",
   "execution_count": 65,
   "metadata": {},
   "outputs": [],
   "source": [
    "from nltk.corpus import stopwords \n",
    "\n",
    "stop_words = set(stopwords.words('english')) \n",
    "word_tokens = [w for each in words for w in each ]"
   ]
  },
  {
   "cell_type": "code",
   "execution_count": 66,
   "metadata": {},
   "outputs": [
    {
     "data": {
      "text/plain": [
       "['``',\n",
       " 'Hello',\n",
       " 'there',\n",
       " ',',\n",
       " 'how',\n",
       " 'are',\n",
       " 'you',\n",
       " '?',\n",
       " 'Weather',\n",
       " 'is',\n",
       " 'awesome',\n",
       " '.',\n",
       " 'Its',\n",
       " 'raining',\n",
       " 'here',\n",
       " 'now',\n",
       " '.',\n",
       " \"''\",\n",
       " '``',\n",
       " 'Hello',\n",
       " 'Mr.',\n",
       " 'Raja',\n",
       " ',',\n",
       " 'how',\n",
       " 'are',\n",
       " 'you',\n",
       " '?',\n",
       " 'Weather',\n",
       " 'is',\n",
       " 'awesome',\n",
       " '.',\n",
       " 'Its',\n",
       " 'raining',\n",
       " 'here',\n",
       " 'now',\n",
       " '.',\n",
       " \"''\",\n",
       " '``',\n",
       " 'Hello',\n",
       " 'Mr.',\n",
       " 'Raja',\n",
       " ',',\n",
       " 'how',\n",
       " 'are',\n",
       " 'you',\n",
       " '.',\n",
       " 'Weather',\n",
       " 'is',\n",
       " 'bad',\n",
       " '.',\n",
       " 'Its',\n",
       " 'heavily',\n",
       " 'raining',\n",
       " 'here',\n",
       " 'now',\n",
       " '.',\n",
       " \"''\",\n",
       " '``',\n",
       " 'NLP',\n",
       " 'is',\n",
       " 'great',\n",
       " 'technique',\n",
       " '.',\n",
       " 'It',\n",
       " 'is',\n",
       " 'nice',\n",
       " 'to',\n",
       " 'learn',\n",
       " 'this',\n",
       " 'technique',\n",
       " '.',\n",
       " \"''\",\n",
       " '``',\n",
       " 'AI',\n",
       " 'is',\n",
       " 'making',\n",
       " 'difference',\n",
       " 'in',\n",
       " 'this',\n",
       " 'world',\n",
       " 'now',\n",
       " '.',\n",
       " 'It',\n",
       " 'would',\n",
       " 'be',\n",
       " 'helpful',\n",
       " 'for',\n",
       " 'betterment',\n",
       " 'of',\n",
       " 'human',\n",
       " 'life',\n",
       " '.',\n",
       " 'We',\n",
       " 'need',\n",
       " 'to',\n",
       " 'make',\n",
       " 'advantage',\n",
       " 'of',\n",
       " 'that',\n",
       " '.',\n",
       " \"''\"]"
      ]
     },
     "execution_count": 66,
     "metadata": {},
     "output_type": "execute_result"
    }
   ],
   "source": [
    "word_tokens"
   ]
  },
  {
   "cell_type": "code",
   "execution_count": 82,
   "metadata": {},
   "outputs": [],
   "source": [
    "filtered_words = [w for w in word_tokens if not w in stop_words] "
   ]
  },
  {
   "cell_type": "code",
   "execution_count": 79,
   "metadata": {},
   "outputs": [],
   "source": [
    "from nltk.stem import PorterStemmer, WordNetLemmatizer"
   ]
  },
  {
   "cell_type": "code",
   "execution_count": 83,
   "metadata": {},
   "outputs": [
    {
     "data": {
      "text/plain": [
       "\"`` hello , ? weather awesom . it rain . '' `` hello mr. raja , ? weather awesom . it rain . '' `` hello mr. raja , . weather bad . it heavili rain . '' `` nlp great techniqu . It nice learn techniqu . '' `` AI make differ world . It would help better human life . We need make advantag . ''\""
      ]
     },
     "execution_count": 83,
     "metadata": {},
     "output_type": "execute_result"
    }
   ],
   "source": [
    "port = PorterStemmer()\n",
    "\" \".join([port.stem(i) for i in filtered_words])"
   ]
  },
  {
   "cell_type": "code",
   "execution_count": 84,
   "metadata": {},
   "outputs": [
    {
     "data": {
      "text/plain": [
       "\"`` Hello , ? Weather awesome . Its raining . '' `` Hello Mr. Raja , ? Weather awesome . Its raining . '' `` Hello Mr. Raja , . Weather bad . Its heavily raining . '' `` NLP great technique . It nice learn technique . '' `` AI making difference world . It would helpful betterment human life . We need make advantage . ''\""
      ]
     },
     "execution_count": 84,
     "metadata": {},
     "output_type": "execute_result"
    }
   ],
   "source": [
    "wnl = WordNetLemmatizer()\n",
    "\" \".join([wnl.lemmatize(i) for i in filtered_words])"
   ]
  },
  {
   "cell_type": "markdown",
   "metadata": {},
   "source": [
    "## Ex 5"
   ]
  },
  {
   "cell_type": "code",
   "execution_count": 97,
   "metadata": {},
   "outputs": [],
   "source": [
    "neg_words=[\"hate\",\"hatred\",\"annoyed\",\"annoy\",\"annoyingly\",\"nasty\"]\n",
    "pos_words=[\"nice\",\"excellent\",\"good\",\"wonderful\",\"best\",\"better\",\"awesome\",\"beautiful\",\"beauty\",\"beautifully\",\"supreme\"]"
   ]
  },
  {
   "cell_type": "code",
   "execution_count": 106,
   "metadata": {},
   "outputs": [],
   "source": [
    "sent_classifier = []\n",
    "for sentence in sentences : \n",
    "        pos_score,neg_score = 0,0\n",
    "        for word in nltk.word_tokenize(sentence) : \n",
    "            if word in neg_words : neg_score+=1\n",
    "            if word in pos_words : pos_score+=1\n",
    "        sent_classifier.append(pos_score>neg_score)\n",
    "sentiments = map(lambda x : 'Positive' if x else 'Negative',sent_classifier)"
   ]
  },
  {
   "cell_type": "code",
   "execution_count": 107,
   "metadata": {},
   "outputs": [
    {
     "data": {
      "text/plain": [
       "(['Positive', 'Positive', 'Negative', 'Positive', 'Negative'],\n",
       " ['Hello there, how are you? Weather is awesome. Its raining here now.',\n",
       "  'Hello Mr. Raja, how are you? Weather is awesome. Its raining here now.',\n",
       "  'Hello Mr. Raja, how are you. Weather is bad. Its heavily raining here now.',\n",
       "  'NLP is great technique. It is nice to learn this technique.',\n",
       "  'AI is making difference in this world now.  It would be helpful for betterment of human life. We need to make advantage of that.'])"
      ]
     },
     "execution_count": 107,
     "metadata": {},
     "output_type": "execute_result"
    }
   ],
   "source": [
    "list(sentiments),sentences"
   ]
  }
 ],
 "metadata": {
  "kernelspec": {
   "display_name": "Python 3",
   "language": "python",
   "name": "python3"
  },
  "language_info": {
   "codemirror_mode": {
    "name": "ipython",
    "version": 3
   },
   "file_extension": ".py",
   "mimetype": "text/x-python",
   "name": "python",
   "nbconvert_exporter": "python",
   "pygments_lexer": "ipython3",
   "version": "3.6.5"
  }
 },
 "nbformat": 4,
 "nbformat_minor": 2
}
