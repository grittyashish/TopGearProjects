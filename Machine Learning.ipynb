{
 "cells": [
  {
   "cell_type": "markdown",
   "metadata": {},
   "source": [
    "# Machine Learning\n"
   ]
  },
  {
   "cell_type": "markdown",
   "metadata": {},
   "source": [
    "### BEST FIT LINE - Calling SKlearn linear regression\n"
   ]
  },
  {
   "cell_type": "code",
   "execution_count": 1,
   "metadata": {},
   "outputs": [],
   "source": [
    "%matplotlib inline"
   ]
  },
  {
   "cell_type": "code",
   "execution_count": 2,
   "metadata": {},
   "outputs": [],
   "source": [
    "import pandas as pd\n",
    "from sklearn.model_selection import train_test_split\n",
    "from sklearn import metrics\n",
    "import matplotlib.pyplot as plt\n",
    "import numpy as np"
   ]
  },
  {
   "cell_type": "code",
   "execution_count": 3,
   "metadata": {},
   "outputs": [],
   "source": [
    "df = pd.read_csv('auto-mpg.csv',delim_whitespace=True,names=['mpg', 'cylinders', 'displacement', 'horsepower', 'weight', 'accelaration', 'model year', 'origin', 'car name'])"
   ]
  },
  {
   "cell_type": "code",
   "execution_count": 4,
   "metadata": {},
   "outputs": [],
   "source": [
    "y = df['mpg']\n",
    "X = df['accelaration']"
   ]
  },
  {
   "cell_type": "markdown",
   "metadata": {},
   "source": [
    "### Univariate Regression"
   ]
  },
  {
   "cell_type": "code",
   "execution_count": 5,
   "metadata": {},
   "outputs": [],
   "source": [
    "from sklearn.linear_model import LinearRegression"
   ]
  },
  {
   "cell_type": "code",
   "execution_count": 6,
   "metadata": {},
   "outputs": [],
   "source": [
    "X_train, X_test, y_train, y_test = train_test_split(X, y, test_size=0.2)"
   ]
  },
  {
   "cell_type": "code",
   "execution_count": 7,
   "metadata": {},
   "outputs": [
    {
     "data": {
      "text/plain": [
       "(318,)"
      ]
     },
     "execution_count": 7,
     "metadata": {},
     "output_type": "execute_result"
    }
   ],
   "source": [
    "X_train.shape"
   ]
  },
  {
   "cell_type": "code",
   "execution_count": 8,
   "metadata": {},
   "outputs": [],
   "source": [
    "X_train = np.asarray(X_train).reshape(-1,1)\n",
    "X_test = np.asarray(X_test).reshape(-1,1)\n",
    "y_train = np.asarray(y_train).reshape(-1,1)\n",
    "y_test = np.asarray(y_test).reshape(-1,1)"
   ]
  },
  {
   "cell_type": "code",
   "execution_count": 9,
   "metadata": {},
   "outputs": [
    {
     "data": {
      "text/plain": [
       "((318, 1), (80, 1))"
      ]
     },
     "execution_count": 9,
     "metadata": {},
     "output_type": "execute_result"
    }
   ],
   "source": [
    "X_train.shape,X_test.shape"
   ]
  },
  {
   "cell_type": "code",
   "execution_count": 10,
   "metadata": {},
   "outputs": [
    {
     "data": {
      "text/plain": [
       "LinearRegression(copy_X=True, fit_intercept=True, n_jobs=1, normalize=False)"
      ]
     },
     "execution_count": 10,
     "metadata": {},
     "output_type": "execute_result"
    }
   ],
   "source": [
    "model = LinearRegression()\n",
    "model.fit(X_train, y_train)"
   ]
  },
  {
   "cell_type": "code",
   "execution_count": 11,
   "metadata": {},
   "outputs": [
    {
     "data": {
      "text/plain": [
       "(array([[1.14527754]]), array([5.77195738]))"
      ]
     },
     "execution_count": 11,
     "metadata": {},
     "output_type": "execute_result"
    }
   ],
   "source": [
    "model.coef_,model.intercept_"
   ]
  },
  {
   "cell_type": "code",
   "execution_count": 12,
   "metadata": {},
   "outputs": [
    {
     "data": {
      "text/plain": [
       "array([[22.37848171],\n",
       "       [21.80584294],\n",
       "       [18.37001032],\n",
       "       [28.10486942],\n",
       "       [22.37848171],\n",
       "       [25.81431434],\n",
       "       [25.24167557],\n",
       "       [27.53223065],\n",
       "       [24.09639803],\n",
       "       [27.76128616],\n",
       "       [20.08792663],\n",
       "       [22.95112049],\n",
       "       [27.53223065],\n",
       "       [18.37001032],\n",
       "       [18.94264909],\n",
       "       [21.80584294],\n",
       "       [26.04336984],\n",
       "       [28.21939717],\n",
       "       [24.6690368 ],\n",
       "       [26.38695311],\n",
       "       [23.75281476],\n",
       "       [24.55450904],\n",
       "       [23.52375926],\n",
       "       [25.24167557],\n",
       "       [27.30317514],\n",
       "       [19.51528786],\n",
       "       [22.95112049],\n",
       "       [23.63828701],\n",
       "       [32.91503509],\n",
       "       [22.37848171],\n",
       "       [20.08792663],\n",
       "       [21.23320417],\n",
       "       [26.27242535],\n",
       "       [20.6605654 ],\n",
       "       [22.60753722],\n",
       "       [28.10486942],\n",
       "       [19.74434337],\n",
       "       [24.55450904],\n",
       "       [26.61600861],\n",
       "       [26.50148086],\n",
       "       [25.47073107],\n",
       "       [22.37848171],\n",
       "       [26.1578976 ],\n",
       "       [25.81431434],\n",
       "       [25.24167557],\n",
       "       [27.07411963],\n",
       "       [23.52375926],\n",
       "       [23.98187027],\n",
       "       [20.4315099 ],\n",
       "       [21.80584294],\n",
       "       [27.53223065],\n",
       "       [22.83659273],\n",
       "       [22.37848171],\n",
       "       [26.95959188],\n",
       "       [19.51528786],\n",
       "       [20.6605654 ],\n",
       "       [29.47920247],\n",
       "       [23.4092315 ],\n",
       "       [24.09639803],\n",
       "       [24.09639803],\n",
       "       [26.61600861],\n",
       "       [25.92884209],\n",
       "       [26.61600861],\n",
       "       [23.18017599],\n",
       "       [24.09639803],\n",
       "       [28.10486942],\n",
       "       [20.6605654 ],\n",
       "       [20.88962091],\n",
       "       [23.52375926],\n",
       "       [27.53223065],\n",
       "       [20.20245439],\n",
       "       [23.4092315 ],\n",
       "       [24.55450904],\n",
       "       [23.86734252],\n",
       "       [21.23320417],\n",
       "       [20.88962091],\n",
       "       [24.09639803],\n",
       "       [24.21092578],\n",
       "       [22.26395396],\n",
       "       [23.52375926]])"
      ]
     },
     "execution_count": 12,
     "metadata": {},
     "output_type": "execute_result"
    }
   ],
   "source": [
    "model.predict(X_test)"
   ]
  },
  {
   "cell_type": "code",
   "execution_count": 13,
   "metadata": {},
   "outputs": [
    {
     "data": {
      "text/plain": [
       "0.19000991879661244"
      ]
     },
     "execution_count": 13,
     "metadata": {},
     "output_type": "execute_result"
    }
   ],
   "source": [
    "model.score(X_test,y_test)"
   ]
  },
  {
   "cell_type": "code",
   "execution_count": 14,
   "metadata": {},
   "outputs": [
    {
     "data": {
      "text/plain": [
       "[<matplotlib.lines.Line2D at 0x7f187cf46400>]"
      ]
     },
     "execution_count": 14,
     "metadata": {},
     "output_type": "execute_result"
    },
    {
     "data": {
      "image/png": "[encoded data removed]",
      "text/plain": [
       "<Figure size 432x288 with 1 Axes>"
      ]
     },
     "metadata": {},
     "output_type": "display_data"
    }
   ],
   "source": [
    "plt.scatter(X_train,y_train)\n",
    "plt.plot(X_test,model.predict(X_test),'r')"
   ]
  },
  {
   "cell_type": "markdown",
   "metadata": {},
   "source": [
    "### Multivariate Regression"
   ]
  },
  {
   "cell_type": "code",
   "execution_count": 15,
   "metadata": {},
   "outputs": [],
   "source": [
    "import math"
   ]
  },
  {
   "cell_type": "code",
   "execution_count": 16,
   "metadata": {},
   "outputs": [],
   "source": [
    "df = pd.read_csv('auto-mpg.csv',delim_whitespace=True,names=['mpg', 'cylinders', 'displacement', 'horsepower', 'weight', 'accelaration', 'model year', 'origin', 'car name'])\n",
    "y = df['mpg']\n",
    "X = df['accelaration']"
   ]
  },
  {
   "cell_type": "code",
   "execution_count": 23,
   "metadata": {},
   "outputs": [],
   "source": [
    "X_train = np.asarray(X)\n",
    "y_train = np.asarray(y)"
   ]
  },
  {
   "cell_type": "code",
   "execution_count": 55,
   "metadata": {},
   "outputs": [],
   "source": [
    "m = 0\n",
    "c = 0\n",
    "iterations = 1000\n",
    "learning_rate = 0.0001"
   ]
  },
  {
   "cell_type": "code",
   "execution_count": 28,
   "metadata": {},
   "outputs": [],
   "source": [
    "# Error function or Cost function\n",
    "def CostFunction(m, c, X_train, y_train) : \n",
    "    summation = 0\n",
    "    for x,y in zip(X_train, y_train) : \n",
    "        summation += (y - (m*x + c))**2\n",
    "    return summation/float(2*len(X_train)) "
   ]
  },
  {
   "cell_type": "code",
   "execution_count": 35,
   "metadata": {},
   "outputs": [],
   "source": [
    "#This function will take in learning_rate,training xs(X_train) and ys(y_train)\n",
    "#This function will return new m and c for every iteration over the entire training set\n",
    "#The greater the number of iterations the better the fitting\n",
    "def GradientDescent(m, c, learning_rate,X_train, y_train) : \n",
    "    #global m\n",
    "    #global c\n",
    "    dev_c = 0#Derivative of Cost Function wrt c\n",
    "    dev_m = 0#Derivative of Cost Function wrt m\n",
    "    ratio = 2/(float(len(X_train)))\n",
    "    #Iterating over the entire training set\n",
    "    for x,y in zip(X_train,y_train) : \n",
    "        dev_c += (y - (m*x + c) )*(-1)*ratio\n",
    "        dev_m += (y - (m*x + c) )*(-x)*ratio\n",
    "    #Now we set the new value of c and m as : \n",
    "    c = c - dev_c*learning_rate\n",
    "    m = m - dev_m*learning_rate\n",
    "    return m,c"
   ]
  },
  {
   "cell_type": "code",
   "execution_count": 32,
   "metadata": {},
   "outputs": [],
   "source": [
    "# Step Gradient function\n",
    "def StepGradient(iterations, m, c, X_train, y_train, learning_rate) : \n",
    "    for i in range(iterations) : \n",
    "        m,c = GradientDescent(m, c, learning_rate, X_train, y_train)\n",
    "        error = CostFunction(m, c, X_train, y_train)    \n",
    "    return m,c,error"
   ]
  },
  {
   "cell_type": "code",
   "execution_count": 56,
   "metadata": {},
   "outputs": [],
   "source": [
    "m,c,error = StepGradient(iterations, m, c, X_train, y_train, learning_rate)"
   ]
  },
  {
   "cell_type": "code",
   "execution_count": 57,
   "metadata": {},
   "outputs": [
    {
     "data": {
      "text/plain": [
       "(1.4931509862180814, 0.12252253313266287, 25.44263658593405)"
      ]
     },
     "execution_count": 57,
     "metadata": {},
     "output_type": "execute_result"
    }
   ],
   "source": [
    "m, c, error"
   ]
  },
  {
   "cell_type": "code",
   "execution_count": 58,
   "metadata": {},
   "outputs": [
    {
     "data": {
      "text/plain": [
       "[<matplotlib.lines.Line2D at 0x7f1871988b38>]"
      ]
     },
     "execution_count": 58,
     "metadata": {},
     "output_type": "execute_result"
    },
    {
     "data": {
      "image/png": "[encoded data removed]",
      "text/plain": [
       "<Figure size 432x288 with 1 Axes>"
      ]
     },
     "metadata": {},
     "output_type": "display_data"
    }
   ],
   "source": [
    "plt.scatter(X_train,y_train)\n",
    "plt.plot(X_train,m*X_train+c,'r')"
   ]
  },
  {
   "cell_type": "markdown",
   "metadata": {},
   "source": [
    "## Upon several modifications, above is the best result that I got"
   ]
  }
 ],
 "metadata": {
  "kernelspec": {
   "display_name": "Python 3",
   "language": "python",
   "name": "python3"
  },
  "language_info": {
   "codemirror_mode": {
    "name": "ipython",
    "version": 3
   },
   "file_extension": ".py",
   "mimetype": "text/x-python",
   "name": "python",
   "nbconvert_exporter": "python",
   "pygments_lexer": "ipython3",
   "version": "3.6.5"
  }
 },
 "nbformat": 4,
 "nbformat_minor": 2
}
